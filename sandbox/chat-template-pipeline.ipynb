{
 "cells": [
  {
   "metadata": {},
   "cell_type": "code",
   "source": "MODEL_ID = \"openai/gpt-oss-20b\"",
   "id": "ed0cf3012c98f3bf",
   "outputs": [],
   "execution_count": null
  },
  {
   "metadata": {},
   "cell_type": "code",
   "source": [
    "from transformers import AutoTokenizer\n",
    "\n",
    "from kani.engines.huggingface.chat_template_pipeline import ChatTemplatePromptPipeline\n",
    "\n",
    "tokenizer = AutoTokenizer.from_pretrained(MODEL_ID)\n",
    "pipe = ChatTemplatePromptPipeline(tokenizer)"
   ],
   "id": "3f3fcf1d6cd725ca",
   "outputs": [],
   "execution_count": null
  },
  {
   "metadata": {},
   "cell_type": "code",
   "source": "print(tokenizer.chat_template)",
   "id": "b04fc3dae4d605e8",
   "outputs": [],
   "execution_count": null
  },
  {
   "metadata": {},
   "cell_type": "code",
   "source": [
    "import enum\n",
    "from kani import AIFunction, AIParam\n",
    "from typing import Annotated\n",
    "from pydantic import BaseModel, Field\n",
    "\n",
    "\n",
    "class Unit(enum.Enum):\n",
    "    FAHRENHEIT = \"fahrenheit\"\n",
    "    CELSIUS = \"celsius\"\n",
    "\n",
    "\n",
    "class Foo(BaseModel):\n",
    "    bar: int\n",
    "    bletch: list[str]\n",
    "\n",
    "class Bar(BaseModel):\n",
    "    # asdf: list[Foo]\n",
    "    asfg: Foo\n",
    "\n",
    "\n",
    "def get_weather(\n",
    "    location: Annotated[str, AIParam(desc=\"The city and state, e.g. San Francisco, CA\")],\n",
    "    unit: Unit,\n",
    "):\n",
    "    \"\"\"Get the current weather in a given location.\"\"\"\n",
    "    # call some weather API, or just mock it for this example\n",
    "    degrees = 72 if unit == Unit.FAHRENHEIT else 22\n",
    "    return f\"Weather in {location}: Sunny, {degrees} degrees {unit.value}.\"\n",
    "\n",
    "\n",
    "def something_weird(\n",
    "    foo: Annotated[Bar, AIParam(desc=\"a foo\")],\n",
    "    foo2: Foo,\n",
    "):\n",
    "    \"\"\"a weird function\"\"\"\n",
    "    pass\n",
    "\n",
    "\n",
    "funcs = [AIFunction(get_weather), AIFunction(something_weird)]"
   ],
   "id": "188f275f9efe9f90",
   "outputs": [],
   "execution_count": null
  },
  {
   "metadata": {},
   "cell_type": "code",
   "source": "pipe.explain(functions=funcs)",
   "id": "695c5eafeff5fce9",
   "outputs": [],
   "execution_count": null
  },
  {
   "metadata": {},
   "cell_type": "code",
   "source": [
    "from kani.engines.openai.translation import translate_functions\n",
    "from kani.engines.openai import function_calling\n",
    "\n",
    "print(function_calling.prompt(tuple(translate_functions(funcs))))"
   ],
   "id": "2debcd5d50df471",
   "outputs": [],
   "execution_count": null
  },
  {
   "metadata": {},
   "cell_type": "code",
   "source": "",
   "id": "acd27de6c5ae440e",
   "outputs": [],
   "execution_count": null
  }
 ],
 "metadata": {
  "kernelspec": {
   "display_name": "Python 3",
   "language": "python",
   "name": "python3"
  },
  "language_info": {
   "codemirror_mode": {
    "name": "ipython",
    "version": 2
   },
   "file_extension": ".py",
   "mimetype": "text/x-python",
   "name": "python",
   "nbconvert_exporter": "python",
   "pygments_lexer": "ipython2",
   "version": "2.7.6"
  }
 },
 "nbformat": 4,
 "nbformat_minor": 5
}
