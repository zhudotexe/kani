{
 "cells": [
  {
   "metadata": {
    "ExecuteTime": {
     "end_time": "2025-01-24T18:03:53.170942Z",
     "start_time": "2025-01-24T18:03:53.129121Z"
    }
   },
   "cell_type": "code",
   "source": [
    "from mistral_common.protocol.instruct.messages import AssistantMessage, ToolMessage, UserMessage\n",
    "from mistral_common.protocol.instruct.request import ChatCompletionRequest\n",
    "from mistral_common.protocol.instruct.tool_calls import Function, FunctionCall, Tool, ToolCall\n",
    "from mistral_common.tokens.tokenizers.mistral import MistralTokenizer\n",
    "\n",
    "mistral_tokenizer = MistralTokenizer.v3()\n",
    "\n",
    "completion_request = ChatCompletionRequest(\n",
    "    tools=[\n",
    "        Tool(\n",
    "            function=Function(\n",
    "                name=\"get_current_weather\",\n",
    "                description=\"Get the current weather\",\n",
    "                parameters={\n",
    "                    \"type\": \"object\",\n",
    "                    \"properties\": {\n",
    "                        \"location\": {\n",
    "                            \"type\": \"string\",\n",
    "                            \"description\": \"The city and state, e.g. San Francisco, CA\",\n",
    "                        },\n",
    "                        \"format\": {\n",
    "                            \"type\": \"string\",\n",
    "                            \"enum\": [\"celsius\", \"fahrenheit\"],\n",
    "                            \"description\": \"The temperature unit to use. Infer this from the users location.\",\n",
    "                        },\n",
    "                    },\n",
    "                    \"required\": [\"location\", \"format\"],\n",
    "                },\n",
    "            )\n",
    "        )\n",
    "    ],\n",
    "    messages=[\n",
    "        UserMessage(content=\"What's the weather like today in Paris?\"),\n",
    "        AssistantMessage(\n",
    "            tool_calls=[\n",
    "                ToolCall(\n",
    "                    id=\"1bdc45f90\",\n",
    "                    function=FunctionCall(name=\"get_weather\", arguments='{\"location\": \"Tokyo, JP\", \"unit\": \"celsius\"}'),\n",
    "                ),\n",
    "            ]\n",
    "        ),\n",
    "        ToolMessage(\n",
    "            content=\"Weather in Tokyo, JP: Partly cloudy, 21 degrees celsius.\",\n",
    "            tool_call_id=\"1bdc45f90\",\n",
    "        ),\n",
    "        AssistantMessage(content=\"It's partly cloudy and 21 degrees in Tokyo.\"),\n",
    "        UserMessage(content=\"What's the weather like today in Paris?\"),\n",
    "        AssistantMessage(content=\"It's partly cloudy and 21 degrees in Tokyo.\"),\n",
    "        UserMessage(content=\"What's the weather like today in Paris?\"),\n",
    "    ],\n",
    ")\n",
    "\n",
    "tokenized = mistral_tokenizer.encode_chat_completion(completion_request)\n",
    "\n",
    "print(tokenized.text)"
   ],
   "id": "ed0cf3012c98f3bf",
   "outputs": [
    {
     "name": "stdout",
     "output_type": "stream",
     "text": [
      "<s>[INST]▁What's▁the▁weather▁like▁today▁in▁Paris?[/INST][TOOL_CALLS]▁[{\"name\":▁\"get_weather\",▁\"arguments\":▁{\"location\":▁\"Tokyo,▁JP\",▁\"unit\":▁\"celsius\"},▁\"id\":▁\"1bdc45f90\"}]</s>[TOOL_RESULTS]▁{\"content\":▁\"Weather▁in▁Tokyo,▁JP:▁Partly▁cloudy,▁21▁degrees▁celsius.\",▁\"call_id\":▁\"1bdc45f90\"}[/TOOL_RESULTS]▁It's▁partly▁cloudy▁and▁21▁degrees▁in▁Tokyo.</s>[INST]▁What's▁the▁weather▁like▁today▁in▁Paris?[/INST]▁It's▁partly▁cloudy▁and▁21▁degrees▁in▁Tokyo.</s>[AVAILABLE_TOOLS]▁[{\"type\":▁\"function\",▁\"function\":▁{\"name\":▁\"get_current_weather\",▁\"description\":▁\"Get▁the▁current▁weather\",▁\"parameters\":▁{\"type\":▁\"object\",▁\"properties\":▁{\"location\":▁{\"type\":▁\"string\",▁\"description\":▁\"The▁city▁and▁state,▁e.g.▁San▁Francisco,▁CA\"},▁\"format\":▁{\"type\":▁\"string\",▁\"enum\":▁[\"celsius\",▁\"fahrenheit\"],▁\"description\":▁\"The▁temperature▁unit▁to▁use.▁Infer▁this▁from▁the▁users▁location.\"}},▁\"required\":▁[\"location\",▁\"format\"]}}}][/AVAILABLE_TOOLS][INST]▁What's▁the▁weather▁like▁today▁in▁Paris?[/INST]\n"
     ]
    }
   ],
   "execution_count": 3
  },
  {
   "metadata": {},
   "cell_type": "code",
   "source": [
    "from transformers import AutoTokenizer\n",
    "\n",
    "hf_tokenizer = AutoTokenizer.from_pretrained(\"mistralai/Mistral-7B-Instruct-v0.3\")"
   ],
   "id": "3f3fcf1d6cd725ca",
   "outputs": [],
   "execution_count": null
  },
  {
   "metadata": {},
   "cell_type": "code",
   "source": [
    "test = \"\"\"<s>[INST] What's the weather in Tokyo?[/INST] [TOOL_CALLS] [{\"name\": \"get_weather\", \"arguments\": {\"location\": \"Tokyo, JP\", \"unit\": \"celsius\"}, \"id\": \"dccf5329c\"}]</s>[TOOL_RESULTS] {\"call_id\": \"dccf5329c\", \"content\": \"Weather in Tokyo, JP: Partly cloudy, 21 degrees celsius.\"}[/TOOL_RESULTS] It's partly cloudy and 21 degrees in Tokyo.</s>\"\"\"\n",
    "hf_tokenizer(test)"
   ],
   "id": "188f275f9efe9f90",
   "outputs": [],
   "execution_count": null
  },
  {
   "metadata": {},
   "cell_type": "code",
   "source": "",
   "id": "695c5eafeff5fce9",
   "outputs": [],
   "execution_count": null
  }
 ],
 "metadata": {
  "kernelspec": {
   "display_name": "Python 3",
   "language": "python",
   "name": "python3"
  },
  "language_info": {
   "codemirror_mode": {
    "name": "ipython",
    "version": 2
   },
   "file_extension": ".py",
   "mimetype": "text/x-python",
   "name": "python",
   "nbconvert_exporter": "python",
   "pygments_lexer": "ipython2",
   "version": "2.7.6"
  }
 },
 "nbformat": 4,
 "nbformat_minor": 5
}
