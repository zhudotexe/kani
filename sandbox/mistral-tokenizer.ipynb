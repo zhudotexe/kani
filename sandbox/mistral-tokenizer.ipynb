{
 "cells": [
  {
   "metadata": {},
   "cell_type": "code",
   "source": [
    "from mistral_common.protocol.instruct.messages import AssistantMessage, ToolMessage, UserMessage\n",
    "from mistral_common.protocol.instruct.tool_calls import Function, FunctionCall, Tool, ToolCall\n",
    "from mistral_common.tokens.instruct.normalize import ChatCompletionRequest\n",
    "from mistral_common.tokens.tokenizers.mistral import MistralTokenizer\n",
    "\n",
    "mistral_tokenizer = MistralTokenizer.v3()\n",
    "\n",
    "completion_request = ChatCompletionRequest(\n",
    "    tools=[\n",
    "        Tool(\n",
    "            function=Function(\n",
    "                name=\"get_current_weather\",\n",
    "                description=\"Get the current weather\",\n",
    "                parameters={\n",
    "                    \"type\": \"object\",\n",
    "                    \"properties\": {\n",
    "                        \"location\": {\n",
    "                            \"type\": \"string\",\n",
    "                            \"description\": \"The city and state, e.g. San Francisco, CA\",\n",
    "                        },\n",
    "                        \"format\": {\n",
    "                            \"type\": \"string\",\n",
    "                            \"enum\": [\"celsius\", \"fahrenheit\"],\n",
    "                            \"description\": \"The temperature unit to use. Infer this from the users location.\",\n",
    "                        },\n",
    "                    },\n",
    "                    \"required\": [\"location\", \"format\"],\n",
    "                },\n",
    "            )\n",
    "        )\n",
    "    ],\n",
    "    messages=[\n",
    "        UserMessage(content=\"What's the weather like today in Paris?\"),\n",
    "        AssistantMessage(\n",
    "            tool_calls=[\n",
    "                ToolCall(\n",
    "                    id=\"1bdc45f90\",\n",
    "                    function=FunctionCall(name=\"get_weather\", arguments='{\"location\": \"Tokyo, JP\", \"unit\": \"celsius\"}'),\n",
    "                ),\n",
    "            ]\n",
    "        ),\n",
    "        ToolMessage(\n",
    "            content=\"Weather in Tokyo, JP: Partly cloudy, 21 degrees celsius.\",\n",
    "            tool_call_id=\"1bdc45f90\",\n",
    "        ),\n",
    "        AssistantMessage(content=\"It's partly cloudy and 21 degrees in Tokyo.\"),\n",
    "        UserMessage(content=\"What's the weather like today in Paris?\"),\n",
    "        AssistantMessage(content=\"It's partly cloudy and 21 degrees in Tokyo.\"),\n",
    "        UserMessage(content=\"What's the weather like today in Paris?\"),\n",
    "    ],\n",
    ")\n",
    "\n",
    "tokenized = mistral_tokenizer.encode_chat_completion(completion_request)\n",
    "\n",
    "print(tokenized.text)"
   ],
   "id": "ed0cf3012c98f3bf",
   "outputs": [],
   "execution_count": null
  },
  {
   "metadata": {},
   "cell_type": "code",
   "source": [
    "from transformers import AutoTokenizer\n",
    "\n",
    "hf_tokenizer = AutoTokenizer.from_pretrained(\"mistralai/Mistral-7B-Instruct-v0.3\")"
   ],
   "id": "3f3fcf1d6cd725ca",
   "outputs": [],
   "execution_count": null
  },
  {
   "metadata": {},
   "cell_type": "code",
   "source": [
    "test = \"\"\"<s>[INST] What's the weather in Tokyo?[/INST] [TOOL_CALLS] [{\"name\": \"get_weather\", \"arguments\": {\"location\": \"Tokyo, JP\", \"unit\": \"celsius\"}, \"id\": \"dccf5329c\"}]</s>[TOOL_RESULTS] {\"call_id\": \"dccf5329c\", \"content\": \"Weather in Tokyo, JP: Partly cloudy, 21 degrees celsius.\"}[/TOOL_RESULTS] It's partly cloudy and 21 degrees in Tokyo.</s>\"\"\"\n",
    "hf_tokenizer(test)"
   ],
   "id": "188f275f9efe9f90",
   "outputs": [],
   "execution_count": null
  },
  {
   "metadata": {},
   "cell_type": "code",
   "source": "",
   "id": "695c5eafeff5fce9",
   "outputs": [],
   "execution_count": null
  }
 ],
 "metadata": {
  "kernelspec": {
   "display_name": "Python 3",
   "language": "python",
   "name": "python3"
  },
  "language_info": {
   "codemirror_mode": {
    "name": "ipython",
    "version": 2
   },
   "file_extension": ".py",
   "mimetype": "text/x-python",
   "name": "python",
   "nbconvert_exporter": "python",
   "pygments_lexer": "ipython2",
   "version": "2.7.6"
  }
 },
 "nbformat": 4,
 "nbformat_minor": 5
}
